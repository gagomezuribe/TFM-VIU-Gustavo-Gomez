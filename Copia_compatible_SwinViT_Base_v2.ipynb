{
  "cells": [
    {
      "cell_type": "code",
      "execution_count": null,
      "metadata": {
        "id": "9AobPID6H2m3"
      },
      "outputs": [],
      "source": [
        "\"\"\" MODELO PRE ENTRENADO SwinViT Base\n",
        "Dataset: Patch Camelyon, de tensorflow preparado para HuggingFace completo\n",
        "Fuente del modelo: HuggingFace\n",
        "Modelo: microsoft/swin-sbase-patch4-window7-224\n",
        "Entrenamiento 3 epocas\n",
        "\"\"\""
      ]
    },
    {
      "cell_type": "code",
      "execution_count": null,
      "metadata": {
        "id": "YA2FG9cPrItg"
      },
      "outputs": [],
      "source": [
        "# Conectar con Google Drivee()\n",
        "from google.colab import drive\n",
        "drive.mount('/content/drive')\n",
        "base_folder = \"/content/drive/MyDrive/00 VIU/10 TFM\"\n"
      ]
    },
    {
      "cell_type": "code",
      "execution_count": null,
      "metadata": {
        "collapsed": true,
        "id": "L1532RVbJgQV"
      },
      "outputs": [],
      "source": [
        "# librerías\n",
        "!pip install -qqq datasets evaluate keras_cv\n",
        "!pip install --upgrade transformers -qqq\n",
        "!pip install -qqq tensorflow\n",
        "!pip install -qqq tf-keras\n"
      ]
    },
    {
      "cell_type": "code",
      "execution_count": null,
      "metadata": {
        "id": "vlGMxtE4rTdY"
      },
      "outputs": [],
      "source": [
        "import numpy as np\n",
        "import transformers\n",
        "import evaluate\n",
        "from transformers import AutoModelForImageClassification, AutoImageProcessor,TrainingArguments, Trainer\n",
        "from datasets import Dataset as HuggingFaceDataset, Features\n",
        "from PIL import Image as PILImage\n",
        "import torch"
      ]
    },
    {
      "cell_type": "code",
      "execution_count": null,
      "metadata": {
        "id": "Bkpk_JPlCww8"
      },
      "outputs": [],
      "source": [
        "# importar credenciales de Hugging face\n",
        "from google.colab import userdata\n",
        "import os\n",
        "from huggingface_hub import login\n",
        "\n",
        "# Accede al token almacenado en los secretos de Colab\n",
        "hf_token = userdata.get('HF_TOKEN')"
      ]
    },
    {
      "cell_type": "markdown",
      "metadata": {
        "id": "mcE455KaG687"
      },
      "source": [
        "## Cargar el dataset patch camelyon de hugging face"
      ]
    },
    {
      "cell_type": "code",
      "execution_count": null,
      "metadata": {
        "id": "fusjJGwmn2C4"
      },
      "outputs": [],
      "source": [
        "train_hf_ds = HuggingFaceDataset.load_from_disk(base_folder+\"/Datasets/pcamelyon_hf/train\")\n",
        "\n",
        "val_hf_ds = HuggingFaceDataset.load_from_disk(base_folder+\"/Datasets/pcamelyon_hf/val\")"
      ]
    },
    {
      "cell_type": "code",
      "execution_count": null,
      "metadata": {
        "id": "5WMEawzyCEyG"
      },
      "outputs": [],
      "source": [
        "model_name = \"microsoft/swin-base-patch4-window7-224\"\n",
        "batch_size = 32"
      ]
    },
    {
      "cell_type": "code",
      "source": [
        "print(len(train_hf_ds))\n"
      ],
      "metadata": {
        "id": "2oTXapvnKCRi"
      },
      "execution_count": null,
      "outputs": []
    },
    {
      "cell_type": "markdown",
      "metadata": {
        "id": "4zxoikSOjs0K"
      },
      "source": [
        "### Preprocesar los datos"
      ]
    },
    {
      "cell_type": "code",
      "execution_count": null,
      "metadata": {
        "id": "X9DDujL0q1ac"
      },
      "outputs": [],
      "source": [
        "num_labels = 2\n",
        "model = AutoModelForImageClassification.from_pretrained(\n",
        "    model_name,\n",
        "    num_labels=num_labels,\n",
        "    ignore_mismatched_sizes = True\n",
        ")\n",
        "\n",
        "# instanciar el image processing\n",
        "image_processor = AutoImageProcessor.from_pretrained(model_name,do_rescale=True,use_fast=True)"
      ]
    },
    {
      "cell_type": "code",
      "source": [
        "model_path=\"microsoft/swin-base-patch4-window7-224\"\n",
        "model = AutoModelForImageClassification.from_pretrained(model_path)\n",
        "image_processor = AutoImageProcessor.from_pretrained(model_path,do_rescale=True,use_fast=True)\n",
        "batch_size = 32\n",
        "num_labels = 2"
      ],
      "metadata": {
        "id": "3SSVzMS36YJC"
      },
      "execution_count": null,
      "outputs": []
    },
    {
      "cell_type": "markdown",
      "source": [
        "### Métricas"
      ],
      "metadata": {
        "id": "oDXAMrvkOkGS"
      }
    },
    {
      "cell_type": "code",
      "execution_count": null,
      "metadata": {
        "id": "EVWfiBuv2uCS"
      },
      "outputs": [],
      "source": [
        "metric = evaluate.load(\"accuracy\")\n",
        "def compute_metrics(p):\n",
        "    predictions = np.argmax(p.predictions, axis=1)\n",
        "    references = p.label_ids\n",
        "    metrics_result = metric.compute(predictions=predictions, references=references)\n",
        "    print(f\"Metric computation result: {metrics_result}\")\n",
        "    return {\"eval_accuracy\": metrics_result[\"accuracy\"]}"
      ]
    },
    {
      "cell_type": "markdown",
      "metadata": {
        "id": "MRWx-sJI8Xo3"
      },
      "source": [
        "### Collator"
      ]
    },
    {
      "cell_type": "code",
      "execution_count": null,
      "metadata": {
        "id": "u0WcwsX7rW9w"
      },
      "outputs": [],
      "source": [
        "def custom_image_collator(batch):\n",
        "    # Extract raw images and labels from the batch\n",
        "    # Assuming example[\"image\"] is already a PIL Image object\n",
        "    images = [example[\"image\"].convert(\"RGB\") for example in batch]\n",
        "    labels = [example[\"label\"] for example in batch] # Assuming 'label' is the original label key\n",
        "\n",
        "    # Process images using the image_processor\n",
        "    processed_inputs = image_processor(images=images, return_tensors=\"pt\")\n",
        "\n",
        "    # Stack labels\n",
        "    stacked_labels = torch.tensor(labels, dtype=torch.long)\n",
        "\n",
        "    # Return the processed batch\n",
        "    return {\"pixel_values\": processed_inputs[\"pixel_values\"], \"labels\": stacked_labels}"
      ]
    },
    {
      "cell_type": "markdown",
      "source": [
        "### Parámetros de entrenamiento"
      ],
      "metadata": {
        "id": "iOthWO7QOqgO"
      }
    },
    {
      "cell_type": "code",
      "execution_count": null,
      "metadata": {
        "id": "xc_MTm0Ks3DF"
      },
      "outputs": [],
      "source": [
        "# establecer los parámetros del entrenamiento\n",
        "args = TrainingArguments(\n",
        "    remove_unused_columns=False,\n",
        "    eval_strategy = \"epoch\",\n",
        "    save_strategy = \"epoch\",\n",
        "    learning_rate=5e-5,\n",
        "    per_device_train_batch_size=batch_size,\n",
        "    gradient_accumulation_steps=4,\n",
        "    per_device_eval_batch_size=batch_size,\n",
        "    num_train_epochs=3,\n",
        "    load_best_model_at_end=True,\n",
        "    metric_for_best_model=\"eval_accuracy\",\n",
        "    report_to=\"none\",\n",
        "    output_dir=base_folder+\"/Modelos entrenados/Swin v1 Base 3epocas\"\n",
        ")"
      ]
    },
    {
      "cell_type": "code",
      "execution_count": null,
      "metadata": {
        "id": "McVoaCPr3Cj-"
      },
      "outputs": [],
      "source": [
        "trainer = Trainer(\n",
        "    model=model,\n",
        "    args=args,\n",
        "    train_dataset=train_hf_ds,\n",
        "    eval_dataset=val_hf_ds,\n",
        "    compute_metrics=compute_metrics,\n",
        "    data_collator=custom_image_collator,\n",
        "    tokenizer=image_processor\n",
        ")"
      ]
    },
    {
      "cell_type": "code",
      "execution_count": null,
      "metadata": {
        "id": "Pps61vF_4QaH"
      },
      "outputs": [],
      "source": [
        "%%time\n",
        "print(\"\\n--- Iniciando entrenamiento ---\")\n",
        "train_results = trainer.train()"
      ]
    },
    {
      "cell_type": "code",
      "execution_count": null,
      "metadata": {
        "id": "ypjTY52A2H4t"
      },
      "outputs": [],
      "source": [
        "trainer.save_model(base_folder+\"/Modelos entrenados/Swin v1 Base 3epocas\")"
      ]
    },
    {
      "cell_type": "code",
      "execution_count": null,
      "metadata": {
        "id": "VhMiqDv1z5Zu"
      },
      "outputs": [],
      "source": [
        "# # EVALUAR EL MODELO\n",
        "\n",
        "test_hf_ds = HuggingFaceDataset.load_from_disk(base_folder+\"/Datasets/pcamelyon_hf/test\")\n"
      ]
    },
    {
      "cell_type": "code",
      "execution_count": null,
      "metadata": {
        "id": "sOeOkuH-0vOT"
      },
      "outputs": [],
      "source": [
        "%%time\n",
        "test_results = trainer.evaluate(test_hf_ds)\n",
        "\n",
        "print(\"\\n--- Resultados de la evaluación en el dataset de test ---\")\n",
        "print(test_results)\n"
      ]
    }
  ],
  "metadata": {
    "accelerator": "GPU",
    "colab": {
      "gpuType": "L4",
      "provenance": [],
      "toc_visible": true
    },
    "kernelspec": {
      "display_name": "Python 3",
      "name": "python3"
    },
    "language_info": {
      "codemirror_mode": {
        "name": "ipython",
        "version": 3
      },
      "file_extension": ".py",
      "mimetype": "text/x-python",
      "name": "python",
      "nbconvert_exporter": "python",
      "pygments_lexer": "ipython3",
      "version": "3.10.10"
    }
  },
  "nbformat": 4,
  "nbformat_minor": 0
}